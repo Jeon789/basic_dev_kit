{
 "cells": [
  {
   "cell_type": "code",
   "execution_count": 4,
   "metadata": {},
   "outputs": [
    {
     "name": "stdout",
     "output_type": "stream",
     "text": [
      "ast Example ------------------------------\n",
      "<class 'dict'> {'1': 'a', '2': 'b'}\n",
      "<class 'list'> [1, 2, 3, '456']\n",
      "What a magic.....\n",
      "\n",
      "glob Example ------------------------------\n",
      "You will get path as absolute path\n"
     ]
    }
   ],
   "source": [
    "import ast\n",
    "import glob\n",
    "\n",
    "\n",
    "# ast example\n",
    "print('ast Example','-'*30)\n",
    "string1 = \"{ '1' : 'a', '2' : 'b' }\"\n",
    "string2 = \"[1,2,3,'456']\"\n",
    "\n",
    "result1 = ast.literal_eval(string1)\n",
    "result2 = ast.literal_eval(string2)\n",
    "\n",
    "\n",
    "print(type(result1), result1)\n",
    "print(type(result2), result2)\n",
    "print('What a magic.....\\n')\n",
    "\n",
    "print('glob Example','-'*30)\n",
    "path = './path/to/somewhere/*.png'\n",
    "files = glob.glob(path)\n",
    "print('You will get path as absolute path')\n"
   ]
  }
 ],
 "metadata": {
  "kernelspec": {
   "display_name": "EV",
   "language": "python",
   "name": "python3"
  },
  "language_info": {
   "codemirror_mode": {
    "name": "ipython",
    "version": 3
   },
   "file_extension": ".py",
   "mimetype": "text/x-python",
   "name": "python",
   "nbconvert_exporter": "python",
   "pygments_lexer": "ipython3",
   "version": "3.9.15"
  }
 },
 "nbformat": 4,
 "nbformat_minor": 2
}
