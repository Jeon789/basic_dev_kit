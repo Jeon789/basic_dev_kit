{
 "cells": [
  {
   "cell_type": "code",
   "execution_count": 2,
   "metadata": {},
   "outputs": [],
   "source": [
    "import torch\n",
    "import numpy as np\n",
    "import argparse, os, glob, ast\n",
    "from imageio.v2 import imread, imwrite\n",
    "import torchvision.transforms as transforms\n",
    "from skimage.metrics import structural_similarity as compare_ssim\n",
    "from skimage.metrics import peak_signal_noise_ratio as compare_psnr\n",
    "\n",
    "from msanet import MSANet\n",
    "from utils import create_dir, logger\n",
    "\n",
    "import matplotlib.pyplot as plt\n",
    "import matplotlib.image as image"
   ]
  },
  {
   "cell_type": "code",
   "execution_count": 4,
   "metadata": {},
   "outputs": [
    {
     "ename": "NameError",
     "evalue": "name 'image' is not defined",
     "output_type": "error",
     "traceback": [
      "\u001b[0;31m---------------------------------------------------------------------------\u001b[0m",
      "\u001b[0;31mNameError\u001b[0m                                 Traceback (most recent call last)",
      "Cell \u001b[0;32mIn[4], line 29\u001b[0m\n\u001b[1;32m     26\u001b[0m for_x_png \u001b[38;5;241m=\u001b[39m for_x_results[png_index\u001b[38;5;241m-\u001b[39m\u001b[38;5;241m1\u001b[39m]\n\u001b[1;32m     27\u001b[0m for_x_png \u001b[38;5;241m=\u001b[39m os\u001b[38;5;241m.\u001b[39mpath\u001b[38;5;241m.\u001b[39mjoin(\u001b[38;5;124m'\u001b[39m\u001b[38;5;124m./results\u001b[39m\u001b[38;5;124m'\u001b[39m,for_x[i],for_x_png)\n\u001b[0;32m---> 29\u001b[0m img \u001b[38;5;241m=\u001b[39m \u001b[43mimage\u001b[49m\u001b[38;5;241m.\u001b[39mimread(for_x_png)\n\u001b[1;32m     30\u001b[0m axs[\u001b[38;5;241m0\u001b[39m,i]\u001b[38;5;241m.\u001b[39maxis(\u001b[38;5;124m'\u001b[39m\u001b[38;5;124moff\u001b[39m\u001b[38;5;124m'\u001b[39m)\n\u001b[1;32m     31\u001b[0m axs[\u001b[38;5;241m0\u001b[39m,i]\u001b[38;5;241m.\u001b[39mset_title(\u001b[38;5;124mf\u001b[39m\u001b[38;5;124m'\u001b[39m\u001b[38;5;124mf^\u001b[39m\u001b[38;5;132;01m{\u001b[39;00mi\u001b[38;5;132;01m}\u001b[39;00m\u001b[38;5;124m(x)\u001b[39m\u001b[38;5;124m'\u001b[39m)\n",
      "\u001b[0;31mNameError\u001b[0m: name 'image' is not defined"
     ]
    },
    {
     "data": {
      "image/png": "[encoded data removed]",
      "text/plain": [
       "<Figure size 640x480 with 10 Axes>"
      ]
     },
     "metadata": {},
     "output_type": "display_data"
    }
   ],
   "source": [
    "import os\n",
    "import numpy as np\n",
    "import matplotlib.pyplot as plt\n",
    "from mpl_toolkits.axes_grid1.inset_locator import zoomed_inset_axes\n",
    "from mpl_toolkits.axes_grid1.inset_locator import mark_inset\n",
    "\n",
    "\n",
    "results = os.listdir('./results')\n",
    "for_x = [folder for folder in results if 'cc' in folder]\n",
    "for_y = [folder for folder in results if 'cc' not in folder]\n",
    "for_x.sort()\n",
    "for_y.sort()\n",
    "\n",
    "\n",
    "png_index = 19\n",
    "x1, y1 = 150, 80\n",
    "x2, y2 = x1+50, y1+50\n",
    "fig, axs = plt.subplots(2,5)\n",
    "fig.subplots_adjust(wspace=0.05, hspace=0.05)\n",
    "fig.subplots_adjust(bottom=0.3)\n",
    "for i in range(len(for_x)):\n",
    "\n",
    "    # for x\n",
    "    for_x_results = os.listdir(os.path.join('./results',for_x[i]))\n",
    "    for_x_results.sort()\n",
    "    for_x_png = for_x_results[png_index-1]\n",
    "    for_x_png = os.path.join('./results',for_x[i],for_x_png)\n",
    "\n",
    "    img = image.imread(for_x_png)\n",
    "    axs[0,i].axis('off')\n",
    "    axs[0,i].set_title(f'f^{i}(x)')\n",
    "    axs[0,i].imshow(img)\n",
    "\n",
    "    # zoomed\n",
    "    axins = zoomed_inset_axes(axs[0,i], 4, loc='lower left' )\n",
    "    axins.imshow(img)\n",
    "    axins.set_xlim(x1,x2)\n",
    "    axins.set_ylim(y1,y2)\n",
    "    axins.set_xticks([])\n",
    "    axins.set_yticks([])\n",
    "    mark_inset(axs[0,i], axins, loc1=2, loc2=4, ec=\"0.5\")\n",
    "\n",
    "\n",
    "\n",
    "    # for y\n",
    "    for_y_results = os.listdir(os.path.join('./results',for_y[i]))\n",
    "    for_y_results.sort()\n",
    "    for_y_png = for_y_results[png_index-1]\n",
    "    for_y_png = os.path.join('./results',for_y[i],for_y_png)\n",
    "\n",
    "    img = image.imread(for_y_png)\n",
    "    axs[1,i].axis('off')\n",
    "    axs[1,i].set_title(f'f^{i}(y)')\n",
    "    axs[1,i].imshow(img)\n",
    "\n",
    "    # zoomed\n",
    "    axins = zoomed_inset_axes(axs[1,i], 4, loc='lower left' )\n",
    "    axins.imshow(img)\n",
    "    axins.set_xlim(x1,x2)\n",
    "    axins.set_ylim(y1,y2)\n",
    "    axins.set_xticks([])\n",
    "    axins.set_yticks([])\n",
    "    mark_inset(axs[1,i], axins, loc1=2, loc2=4, ec=\"0.5\")\n",
    "\n",
    "plt.show()"
   ]
  }
 ],
 "metadata": {
  "kernelspec": {
   "display_name": "msanet",
   "language": "python",
   "name": "python3"
  },
  "language_info": {
   "codemirror_mode": {
    "name": "ipython",
    "version": 3
   },
   "file_extension": ".py",
   "mimetype": "text/x-python",
   "name": "python",
   "nbconvert_exporter": "python",
   "pygments_lexer": "ipython3",
   "version": "3.10.13"
  }
 },
 "nbformat": 4,
 "nbformat_minor": 2
}
